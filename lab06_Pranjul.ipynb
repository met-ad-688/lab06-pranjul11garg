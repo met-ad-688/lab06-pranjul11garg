{
 "cells": [
  {
   "cell_type": "raw",
   "metadata": {
    "vscode": {
     "languageId": "raw"
    }
   },
   "source": [
    "---\n",
    "title: \"Module 04: Lab 01\"\n",
    "subtitle: \"Visual Reporting and Storytelling\"\n",
    "author: \"Pranjul Garg\"\n",
    "number-sections: true\n",
    "date: \"2025-03-20\"\n",
    "date-modified: today\n",
    "date-format: long\n",
    "engine: jupyter\n",
    "categories: [\"visualization\",\"plotly\",\"spark\",\"Visual Reporting\",\"Storytelling with Data\",\"Industry-Specific Visualization\",]\n",
    "execute: \n",
    "  eval: true\n",
    "  echo: true\n",
    "---"
   ]
  },
  {
   "cell_type": "markdown",
   "metadata": {
    "vscode": {
     "languageId": "plaintext"
    }
   },
   "source": [
    "# Objectives {.unnumbered}\n",
    "\n",
    "By the end of this lab, you will:\n",
    "1. Load and analyze the **Lightcast dataset** in **Spark DataFrame**.\n",
    "2. Create **five easy and three medium-complexity visualizations** using **Plotly**.\n",
    "3. Explore **salary distributions, employment trends, and job postings**.\n",
    "4. Analyze **skills in relation to NAICS/SOC/ONET codes and salaries**.\n",
    "5. Customize **colors, fonts, and styles** in all visualizations (**default themes result in a 2.5-point deduction**).\n",
    "6. Follow **best practices for reporting on data communication**."
   ]
  },
  {
   "cell_type": "markdown",
   "metadata": {
    "vscode": {
     "languageId": "plaintext"
    }
   },
   "source": [
    "# Step 1: Load the Dataset {.unnumbered}\n"
   ]
  },
  {
   "cell_type": "code",
   "execution_count": 1,
   "metadata": {},
   "outputs": [],
   "source": [
    "#import gdown\n",
    "#url = \"https://drive.google.com/uc?id=1V2GCHGt2dkFGqVBeoUFckU4IhUgk4ocQ\"\n",
    "#gdown.download(url, \"lightcast_data.csv\", quiet=False)\n"
   ]
  },
  {
   "cell_type": "code",
   "execution_count": null,
   "metadata": {},
   "outputs": [],
   "source": [
    "import pandas as pd\n",
    "import plotly.express as px\n",
    "import plotly.io as pio\n",
    "pio.renderers.default = \"vscode\"\n",
    "from pyspark.sql import SparkSession\n",
    "from pyspark.sql.functions import col\n",
    "spark = SparkSession.builder.appName(\"lightcast_data.csv\").getOrCreate()\n",
    "\n",
    "df = spark.read.option(\"header\", \"true\").option(\"inferSchema\", \"true\").option(\"multiLine\",\"true\").option(\"escape\", \"\\\"\").csv(\"lightcast_data.csv\")\n",
    "\n",
    "#df.printSchema()\n",
    "#df.show(5)\n"
   ]
  },
  {
   "cell_type": "markdown",
   "metadata": {
    "vscode": {
     "languageId": "plaintext"
    }
   },
   "source": [
    "# Salary Distribution by Employment Type\n",
    "- Identify salary trends across different employment types.\n",
    "- **Filter the dataset**\n",
    "  - Remove records where **salary is missing or zero**.\n",
    "- **Aggregate Data**\n",
    "  - Group by **employment type** and compute salary distribution.\n",
    "- **Visualize results**\n",
    "  - Create a **box plot** where:\n",
    "    - **X-axis** = `EMPLOYMENT_TYPE_NAME`\n",
    "    - **Y-axis** = `SALARY_FROM`\n",
    "  - Customize **colors, fonts, and styles** to avoid a **2.5-point deduction**.\n",
    "- **Explanation:** Write two sentences about what the graph reveals.\n",
    "\n"
   ]
  },
  {
   "cell_type": "code",
   "execution_count": null,
   "metadata": {},
   "outputs": [],
   "source": [
    "# Your Code for 1st question here\n",
    "pdf = df.select(\"EMPLOYMENT_TYPE_NAME\", \"SALARY\").toPandas()\n",
    "fig = px.box(pdf, x=\"EMPLOYMENT_TYPE_NAME\", y=\"SALARY\", title=\"Salary Distribution by Employment Type\", color_discrete_sequence=[\"#636EFA\"])\n",
    "fig.update_layout(font_family=\"Arial\", title_font_size=16)\n",
    "fig.show()"
   ]
  },
  {
   "cell_type": "markdown",
   "metadata": {},
   "source": [
    "##### This chart shows how salaries vary based on job type. People working full-time (> 32 hours a week) usually earn more and have a bigger range of salaries, including some very high ones. \n",
    "\n",
    "#### Part-time workers, whether only part-time or mixed with full-time, tend to earn less and have more similar pay across the board."
   ]
  },
  {
   "cell_type": "markdown",
   "metadata": {
    "vscode": {
     "languageId": "plaintext"
    }
   },
   "source": [
    "# Salary Distribution by Industry\n",
    "- Compare salary variations across industries.\n",
    "- **Filter the dataset**\n",
    "  - Keep records where **salary is greater than zero**.\n",
    "- **Aggregate Data**\n",
    "  - Group by **NAICS industry codes**.\n",
    "- **Visualize results**\n",
    "  - Create a **box plot** where:\n",
    "    - **X-axis** = `NAICS2_NAME`\n",
    "    - **Y-axis** = `SALARY_FROM`\n",
    "  - Customize colors, fonts, and styles.\n",
    "- **Explanation:** Write two sentences about what the graph reveals."
   ]
  },
  {
   "cell_type": "code",
   "execution_count": null,
   "metadata": {},
   "outputs": [],
   "source": [
    "# Your code for 2nd question here\n",
    "\n",
    "from pyspark.sql.functions import avg, min, max, count\n",
    "filtered_df = df.filter((col(\"SALARY_FROM\").isNotNull()) & (col(\"SALARY_FROM\") != 0))\n",
    "\n",
    "industry_df = filtered_df.groupBy(\"NAICS2_NAME\").agg(\n",
    "    count(\"*\").alias(\"job_count\"))\n",
    "\n",
    "industry_df.show() \n"
   ]
  },
  {
   "cell_type": "code",
   "execution_count": null,
   "metadata": {},
   "outputs": [],
   "source": [
    "\n",
    "import glob\n",
    "filtered_df = df.filter(\n",
    "    (col(\"SALARY_FROM\").isNotNull()) & \n",
    "    (col(\"SALARY_FROM\") > 0) & \n",
    "    (col(\"NAICS2_NAME\").isin(\"Health Care and Social Assistance\", \n",
    "                             \"Finance and Insurance\", \n",
    "                             \"Information\"))\n",
    ")\n",
    "\n",
    "salary_df = filtered_df.select(\"NAICS2_NAME\", \"SALARY_FROM\")\n",
    "salary_df.write.mode(\"overwrite\").option(\"header\", True).csv(\"industry_salaries\")\n",
    "\n",
    "files = glob.glob(\"industry_salaries/part-*.csv\")\n",
    "pdf = pd.concat((pd.read_csv(f) for f in files), ignore_index=True)\n",
    "\n",
    "pio.renderers.default = \"plotly_mimetype\"\n",
    "fig = px.box(\n",
    "    pdf,\n",
    "    x=\"NAICS2_NAME\",\n",
    "    y=\"SALARY_FROM\",\n",
    "    title=\"Salary Distribution by Industry\",\n",
    "    color=\"NAICS2_NAME\",\n",
    "    color_discrete_sequence=[\"#1f77b4\", \"#2ca02c\", \"#d62728\"]  \n",
    ")\n",
    "\n",
    "fig.update_layout(\n",
    "    font_family=\"Calibri\",\n",
    "    font_size=14,\n",
    "    title_font_size=20,\n",
    "    xaxis_title=\"Industry Type\",\n",
    "    yaxis_title=\"Salary (USD)\",\n",
    "    plot_bgcolor=\"#fafafa\",\n",
    "    paper_bgcolor=\"#f5f5f5\",\n",
    "    showlegend=False\n",
    ")\n",
    "\n",
    "fig.show()\n"
   ]
  },
  {
   "cell_type": "markdown",
   "metadata": {},
   "source": [
    "#### This chart compares salary ranges across three major industries. The Information industry tends to offer the highest salaries, with a wider spread and more high-paying roles. Finance and Insurance shows slightly lower median salaries, but still competitive. Meanwhile, Health Care and Social Assistance generally offers the lowest pay among the three, though it still has some high-salary outliers."
   ]
  },
  {
   "cell_type": "markdown",
   "metadata": {},
   "source": [
    "# Job Posting Trends Over Time\n",
    "- Analyze how job postings fluctuate over time.\n",
    "- **Aggregate Data**\n",
    "  - Count job postings per **posted date (`POSTED`)**.\n",
    "- **Visualize results**\n",
    "  - Create a **line chart** where:\n",
    "    - **X-axis** = `POSTED`\n",
    "    - **Y-axis** = `Number of Job Postings`\n",
    "  - Apply custom colors and font styles.\n",
    "- **Explanation:** Write two sentences about what the graph reveals."
   ]
  },
  {
   "cell_type": "code",
   "execution_count": null,
   "metadata": {},
   "outputs": [],
   "source": [
    "#Filtering and grouping job postings by date\n",
    "import glob\n",
    "job_post_df = (\n",
    "    df.filter(col(\"POSTED\").isNotNull())\n",
    "      .groupBy(\"POSTED\")\n",
    "      .agg(count(\"*\").alias(\"job_count\"))\n",
    ")\n",
    "\n",
    "# grouping the data to CSV and read with pandas\n",
    "job_post_df.write.mode(\"overwrite\").option(\"header\", True).csv(\"job_posts\")\n",
    "files = glob.glob(\"job_posts/part-*.csv\")\n",
    "pdf = pd.concat((pd.read_csv(f) for f in files), ignore_index=True)\n",
    "\n",
    "#Format and sorting by date\n",
    "pdf[\"POSTED\"] = pd.to_datetime(pdf[\"POSTED\"])\n",
    "pdf = pdf.sort_values(\"POSTED\")\n",
    "\n",
    "pio.renderers.default = \"plotly_mimetype\"\n",
    "\n",
    "fig = px.line(\n",
    "    pdf,\n",
    "    x=\"POSTED\",\n",
    "    y=\"job_count\",\n",
    "    title=\"Job Postings Trend Over Time\",\n",
    "    markers=True,  # adds visible dots at data points\n",
    "    color_discrete_sequence=[\"#FF7F0E\"]  \n",
    ")\n",
    "\n",
    "fig.update_layout(\n",
    "    font=dict(family=\"Segoe UI\", size=14),\n",
    "    title_font=dict(family=\"Georgia\", size=22, color=\"#333333\"),\n",
    "    xaxis_title=\"Dates on which the jobs were posted\",\n",
    "    yaxis_title=\"Number of Job Postings\",\n",
    "    plot_bgcolor=\"#FAFAFA\",\n",
    "    paper_bgcolor=\"#FFFFFF\"\n",
    ")\n",
    "\n",
    "fig.show()\n"
   ]
  },
  {
   "cell_type": "markdown",
   "metadata": {},
   "source": [
    "#### This line graph shows how the number of job postings changed from May to October 2024. While the overall trend stays fairly consistent, there are regular ups and downs—suggesting that job postings spike on certain days or weeks, then dip right after. It could reflect typical hiring cycles or patterns like jobs being posted more often early in the week."
   ]
  },
  {
   "cell_type": "markdown",
   "metadata": {},
   "source": [
    "# Top 10 Job Titles by Count\n",
    "- Identify the most frequently posted job titles.\n",
    "- **Aggregate Data**\n",
    "  - Count the occurrences of each **job title (`TITLE_NAME`)**.\n",
    "  - Select the **top 10 most frequent titles**.\n",
    "- **Visualize results**\n",
    "  - Create a **bar chart** where:\n",
    "    - **X-axis** = `TITLE_NAME`\n",
    "    - **Y-axis** = `Job Count`\n",
    "  - Apply custom colors and font styles.\n",
    "- **Explanation:** Write two sentences about what the graph reveals."
   ]
  },
  {
   "cell_type": "code",
   "execution_count": null,
   "metadata": {},
   "outputs": [],
   "source": [
    "# Your code for 4th question here\n",
    "#finding the top 10 jobs\n",
    "job_title = df.filter(col(\"TITLE_NAME\").isNotNull()) \\\n",
    "                .groupBy(\"TITLE_NAME\") \\\n",
    "                .agg(count(\"*\").alias(\"job_count\"))\n",
    "top_10_jobs = job_title.orderBy(\"job_count\", ascending=False).limit(10)\n",
    "\n",
    "top_10_jobs.show()"
   ]
  },
  {
   "cell_type": "code",
   "execution_count": null,
   "metadata": {},
   "outputs": [],
   "source": [
    "\n",
    "top_10_jobs.write.mode(\"overwrite\").option(\"header\", True).csv(\"top_10_jobs\")\n",
    "files = glob.glob(\"top_10_jobs/part-*.csv\")\n",
    "pdf4 = pd.concat((pd.read_csv(f) for f in files), ignore_index=True)\n",
    "\n",
    "pio.renderers.default = \"plotly_mimetype\"\n",
    "\n",
    "\n",
    "fig = px.bar(\n",
    "    pdf4,\n",
    "    x=\"TITLE_NAME\",\n",
    "    y=\"job_count\",\n",
    "    title=\"Top 10 Job Titles by Demand\",\n",
    "    color=\"TITLE_NAME\",\n",
    "    color_discrete_sequence=px.colors.qualitative.Safe  \n",
    ")\n",
    "\n",
    "fig.update_layout(\n",
    "    font=dict(family=\"Verdana\", size=14),\n",
    "    title_font=dict(family=\"Georgia\", size=22, color=\"#333333\"),\n",
    "    height=550,\n",
    "    width=900,\n",
    "    xaxis_title=\"Job Titles\",\n",
    "    yaxis_title=\"Number of Postings\",\n",
    "    plot_bgcolor=\"#F8F8F8\",\n",
    "    paper_bgcolor=\"#FFFFFF\",\n",
    "    showlegend=True,\n",
    "    legend_title=\"Legend\"\n",
    ")\n",
    "\n",
    "fig.show()\n"
   ]
  },
  {
   "cell_type": "markdown",
   "metadata": {},
   "source": [
    "#### This bar chart shows the top 10 most in-demand job titles based on the number of postings. Data Analysts dominate the chart by a wide margin, indicating very high demand. The rest—including roles like Business Intelligence Analysts, Enterprise Architects, and Oracle Cloud HCM Consultants—have significantly fewer postings, showing that while specialized roles are needed, generalist data positions are currently leading the job market."
   ]
  },
  {
   "cell_type": "markdown",
   "metadata": {},
   "source": [
    "# Remote vs On-Site Job Postings\n",
    "- Compare the proportion of remote and on-site job postings.\n",
    "- **Aggregate Data**\n",
    "  - Count job postings by **remote type (`REMOTE_TYPE_NAME`)**.\n",
    "- **Visualize results**\n",
    "  - Create a **pie chart** where:\n",
    "    - **Labels** = `REMOTE_TYPE_NAME`\n",
    "    - **Values** = `Job Count`\n",
    "  - Apply custom colors and font styles.\n",
    "- **Explanation:** Write two sentences about what the graph reveals."
   ]
  },
  {
   "cell_type": "code",
   "execution_count": null,
   "metadata": {},
   "outputs": [],
   "source": [
    "# Your code for 5th question here\n",
    "remote_jobs = df.filter(col(\"REMOTE_TYPE_NAME\").isNotNull()) \\\n",
    "                .groupBy(\"REMOTE_TYPE_NAME\") \\\n",
    "                .agg(count(\"*\").alias(\"job_count\"))\n",
    "\n",
    "remote_jobs.show()"
   ]
  },
  {
   "cell_type": "code",
   "execution_count": null,
   "metadata": {},
   "outputs": [],
   "source": [
    "\n",
    "remote_jobs.write.mode(\"overwrite\").option(\"header\", True).csv(\"remote_jobs\")\n",
    "files = glob.glob(\"remote_jobs/part-*.csv\")\n",
    "pdf5 = pd.concat((pd.read_csv(f) for f in files), ignore_index=True)\n",
    "\n",
    "pio.renderers.default = \"plotly_mimetype\"\n",
    "custom_colors = [\"#00A699\", \"#FF6F61\", \"#1E90FF\", \"#FFD166\", \"#6D6875\", \"#F4A261\"]\n",
    "\n",
    "fig = px.pie(\n",
    "    pdf5,\n",
    "    names=\"REMOTE_TYPE_NAME\",\n",
    "    values=\"job_count\",\n",
    "    title=\"Remote vs On-Site Job Distribution\",\n",
    "    color_discrete_sequence=custom_colors,\n",
    "    hole=0.4  \n",
    ")\n",
    "\n",
    "fig.update_layout(\n",
    "    font=dict(family=\"Segoe UI\", size=15),\n",
    "    title_font=dict(family=\"Georgia\", size=22, color=\"#222222\"),\n",
    "    showlegend=True,\n",
    "    legend_title=\"Work Type\",\n",
    "    paper_bgcolor=\"#FFFFFF\"\n",
    ")\n",
    "\n",
    "fig.show()\n"
   ]
  },
  {
   "cell_type": "markdown",
   "metadata": {},
   "source": [
    "This donut chart shows how job postings are split between remote, hybrid, and on-site work types. A huge chunk (78.1%) of the postings don’t specify the work type, which could mean missing or incomplete data. Among the rest, remote jobs make up 17.2%, while hybrid and on-site (not remote) roles are much less common at just over 3% and 1.5% respectively. So, while remote work is present, transparency in job type still has room for improvement."
   ]
  },
  {
   "cell_type": "markdown",
   "metadata": {},
   "source": [
    "# Skill Demand Analysis by Industry (Stacked Bar Chart)\n",
    "- Identify which skills are most in demand in various industries.\n",
    "- **Aggregate Data**\n",
    "  - Extract **skills** from job postings.\n",
    "  - Count occurrences of skills grouped by **NAICS industry codes**.\n",
    "- **Visualize results**\n",
    "  - Create a **stacked bar chart** where:\n",
    "    - **X-axis** = `Industry`\n",
    "    - **Y-axis** = `Skill Count`\n",
    "    - **Color** = `Skill`\n",
    "  - Apply custom colors and font styles.\n",
    "- **Explanation:** Write two sentences about what the graph reveals."
   ]
  },
  {
   "cell_type": "code",
   "execution_count": 24,
   "metadata": {},
   "outputs": [
    {
     "ename": "SyntaxError",
     "evalue": "unterminated string literal (detected at line 58) (950956871.py, line 58)",
     "output_type": "error",
     "traceback": [
      "  \u001b[36mCell\u001b[39m\u001b[36m \u001b[39m\u001b[32mIn[24]\u001b[39m\u001b[32m, line 58\u001b[39m\n\u001b[31m    \u001b[39m\u001b[31mplot_bgcolor=\"#ffffff_\u001b[39m\n                 ^\n\u001b[31mSyntaxError\u001b[39m\u001b[31m:\u001b[39m unterminated string literal (detected at line 58)\n"
     ]
    }
   ],
   "source": [
    "from pyspark.sql.functions import col, split, explode, trim, count\n",
    "import glob\n",
    "import pandas as pd\n",
    "import plotly.express as px\n",
    "import plotly.io as pio\n",
    "\n",
    "# Step 1: Prepare and write cleaned industry-skill data\n",
    "skills_df = df.filter(\n",
    "    col(\"SKILLS_NAME\").isNotNull() &\n",
    "    col(\"NAICS2_NAME\").isNotNull() &\n",
    "    col(\"NAICS2_NAME\").isin(\"Health Care and Social Assistance\", \n",
    "                            \"Finance and Insurance\", \n",
    "                            \"Information\")\n",
    ").withColumn(\"SKILL\", explode(split(col(\"SKILLS_NAME\"), \",\"))) \\\n",
    " .withColumn(\"SKILL\", trim(col(\"SKILL\")))\n",
    "\n",
    "industry_skills_df = skills_df.groupBy(\"NAICS2_NAME\", \"SKILL\") \\\n",
    "                              .agg(count(\"*\").alias(\"skill_count\"))\n",
    "\n",
    "industry_skills_df.write.mode(\"overwrite\").option(\"header\", True).csv(\"industry_skills_cleaned\")\n",
    "\n",
    "# Step 2: Read the CSVs into pandas\n",
    "files = glob.glob(\"industry_skills_cleaned/part-*.csv\")\n",
    "pdf_skills = pd.concat((pd.read_csv(f) for f in files), ignore_index=True)\n",
    "\n",
    "# Step 3: Clean up bad values\n",
    "pdf_skills[\"SKILL\"] = pdf_skills[\"SKILL\"].astype(str).str.strip()\n",
    "pdf_skills = pdf_skills[pdf_skills[\"SKILL\"].str.len() > 2]  # remove short/malformed junk\n",
    "\n",
    "valid_industries = [\"Health Care and Social Assistance\", \"Finance and Insurance\", \"Information\"]\n",
    "pdf_skills = pdf_skills[pdf_skills[\"NAICS2_NAME\"].isin(valid_industries)]\n",
    "\n",
    "# Step 4: Get top 10 skills per industry\n",
    "top_skills = (\n",
    "    pdf_skills.groupby(\"NAICS2_NAME\")\n",
    "    .apply(lambda x: x.nlargest(10, \"skill_count\"))\n",
    "    .reset_index(drop=True)\n",
    ")\n",
    "\n",
    "# Step 5: Plot\n",
    "pio.renderers.default = \"plotly_mimetype\"\n",
    "\n",
    "fig = px.bar(\n",
    "    top_skills,\n",
    "    x=\"SKILL\",\n",
    "    y=\"skill_count\",\n",
    "    color=\"NAICS2_NAME\",\n",
    "    title=\"Top 10 Skills by Industry (Combined)\",\n",
    "    barmode=\"group\",\n",
    "    color_discrete_sequence=px.colors.qualitative.Set2\n",
    ")\n",
    "\n",
    "fig.update_layout(\n",
    "    font_family=\"Calibri\",\n",
    "    font_size=13,\n",
    "    title_font_size=20,\n",
    "    height=600,\n",
    "    plot_bgcolor=\"#ffffff_\n"
   ]
  },
  {
   "cell_type": "markdown",
   "metadata": {},
   "source": [
    "\n",
    "# Salary Analysis by ONET Occupation Type (Bubble Chart)\n",
    "- Analyze how salaries differ across ONET occupation types.\n",
    "- **Aggregate Data**\n",
    "  - Compute **median salary** for each occupation in the **ONET taxonomy**.\n",
    "- **Visualize results**\n",
    "  - Create a **bubble chart** where:\n",
    "    - **X-axis** = `ONET_NAME`\n",
    "    - **Y-axis** = `Median Salary`\n",
    "    - **Size** = Number of job postings\n",
    "  - Apply custom colors and font styles.\n",
    "- **Explanation:** Write two sentences about what the graph reveals."
   ]
  },
  {
   "cell_type": "code",
   "execution_count": null,
   "metadata": {},
   "outputs": [],
   "source": [
    "print(f\"Number of ONET groups: {len(onet_groups)}\")\n",
    "print(onet_groups[:10])  # Peek at first 10"
   ]
  },
  {
   "cell_type": "code",
   "execution_count": null,
   "metadata": {},
   "outputs": [],
   "source": [
    "subset = onet_df.filter(col(\"ONET_NAME\") == onet)\n"
   ]
  },
  {
   "cell_type": "code",
   "execution_count": null,
   "metadata": {},
   "outputs": [],
   "source": [
    "# Your code for 7th question here\n",
    "\n",
    "results = []\n",
    "\n",
    "for onet in onet_groups:\n",
    "    subset = onet_df.filter(col(\"ONET_NAME\") == onet)\n",
    "    job_count = subset.count()\n",
    "\n",
    "    if job_count >= 5:  # Skip groups with very few jobs\n",
    "        median_salary = subset.approxQuantile(\"SALARY_FROM\", [0.5], 0.01)[0]\n",
    "        results.append((onet, median_salary, job_count))\n",
    "# Create DataFrame and filter out empty/zero values just in case\n",
    "onet_summary_df = pd.DataFrame(results, columns=[\"ONET_NAME\", \"median_salary\", \"job_count\"])\n",
    "onet_summary_df = onet_summary_df[\n",
    "    (onet_summary_df[\"median_salary\"] > 0) &\n",
    "    (onet_summary_df[\"job_count\"] > 0)\n",
    "]\n",
    "\n"
   ]
  },
  {
   "cell_type": "code",
   "execution_count": null,
   "metadata": {},
   "outputs": [],
   "source": [
    "import plotly.express as px\n",
    "import plotly.io as pio\n",
    "\n",
    "pio.renderers.default = \"plotly_mimetype\"\n",
    "\n",
    "fig = px.scatter(\n",
    "    onet_summary_df,\n",
    "    x=\"ONET_NAME\",\n",
    "    y=\"median_salary\",\n",
    "    size=\"job_count\",\n",
    "    title=\"Median Salary vs Job Count by ONET Job Family\",\n",
    "    color=\"median_salary\",\n",
    "    size_max=60,\n",
    "    color_continuous_scale=\"Cividis\"\n",
    ")\n",
    "\n",
    "fig.update_layout(\n",
    "    font=dict(family=\"Segoe UI\", size=14),\n",
    "    title_font=dict(family=\"Georgia\", size=22, color=\"#2F4F4F\"),\n",
    "    height=600,\n",
    "    width=1000,\n",
    "    xaxis_title=\"ONET Job Family\",\n",
    "    yaxis_title=\"Median Salary (USD)\",\n",
    "    xaxis_tickangle=45,\n",
    "    plot_bgcolor=\"#FAFAFA\",\n",
    "    paper_bgcolor=\"#FFFFFF\",\n",
    "    coloraxis_colorbar=dict(title=\"Median Salary\")\n",
    ")\n",
    "\n",
    "fig.show()\n",
    "\n"
   ]
  },
  {
   "cell_type": "code",
   "execution_count": null,
   "metadata": {},
   "outputs": [],
   "source": [
    "print(onet_summary_df.head())\n",
    "print(onet_summary_df.shape)\n"
   ]
  },
  {
   "cell_type": "markdown",
   "metadata": {},
   "source": [
    "# Career Pathway Trends (Sankey Diagram)\n",
    "- Visualize job transitions between different occupation levels.\n",
    "- **Aggregate Data**\n",
    "  - Identify career transitions between **SOC job classifications**.\n",
    "- **Visualize results**\n",
    "  - Create a **Sankey diagram** where:\n",
    "    - **Source** = `SOC_2021_2_NAME`\n",
    "    - **Target** = `SOC_2021_3_NAME`\n",
    "    - **Value** = Number of transitions\n",
    "  - Apply custom colors and font styles.\n",
    "- **Explanation:** Write two sentences about what the graph reveals."
   ]
  },
  {
   "cell_type": "code",
   "execution_count": null,
   "metadata": {},
   "outputs": [],
   "source": [
    "# Your code for 8th question here"
   ]
  }
 ],
 "metadata": {
  "kernelspec": {
   "display_name": "env",
   "language": "python",
   "name": "python3"
  },
  "language_info": {
   "codemirror_mode": {
    "name": "ipython",
    "version": 3
   },
   "file_extension": ".py",
   "mimetype": "text/x-python",
   "name": "python",
   "nbconvert_exporter": "python",
   "pygments_lexer": "ipython3",
   "version": "3.12.3"
  }
 },
 "nbformat": 4,
 "nbformat_minor": 2
}
